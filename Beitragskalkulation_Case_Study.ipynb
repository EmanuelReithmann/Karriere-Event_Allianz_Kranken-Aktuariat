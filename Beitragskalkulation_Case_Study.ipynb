{
 "cells": [
  {
   "cell_type": "markdown",
   "metadata": {},
   "source": [
    "# Das Kochrezept der Prämienkalkulation"
   ]
  },
  {
   "cell_type": "markdown",
   "metadata": {},
   "source": [
    "**Hinweise**\n",
    "\n",
    "Diese interaktive Case Study wurde mittels eines Jupyter Notebooks erstell. Dies bedeutet, dass man in entsprechenden Code-Zellen interaktiv programmieren und Daten auswerten kann. Die Programmiersprache, in der alles umgesetzt ist, ist Python. Aber keine Sorge, Python-Kenntnisse werden zur Durchführung nicht benötigt.\n",
    "\n",
    "*Wie sehen solche interaktiven Zellen konkret aus? Versuche in der unten stehende Zelle eine einfache Rechenoperation oder den Befehl `print(\"Hello world!\")` einzugeben und drücke dann `Shift`+`Enter`.*"
   ]
  },
  {
   "cell_type": "code",
   "execution_count": null,
   "metadata": {},
   "outputs": [],
   "source": []
  },
  {
   "cell_type": "markdown",
   "metadata": {},
   "source": [
    "*Um die Case Study zu beginnen, müssen noch ein paar Pakete und Hilfsfunktionen geladen werden. Dazu muss der untenstehende (eingeklappte) Code-Block ebenfalls mit  `Shift`+`Enter` ausgeführt werden.*"
   ]
  },
  {
   "cell_type": "code",
   "execution_count": null,
   "metadata": {
    "code_folding": [
     0
    ]
   },
   "outputs": [],
   "source": [
    "##Hilfscode\n",
    "\n",
    "#Notwendige Python Pakete laden\n",
    "import numpy as np\n",
    "import matplotlib.pyplot as plt\n",
    "from matplotlib.ticker import MaxNLocator\n",
    "import scipy.interpolate as interpolate \n",
    "\n",
    "#Funktion für die Trendbestimmung\n",
    "def Trendbestimmung(Jahre, Quoten):\n",
    "    #Linearer Fit des Quotenverlaufs\n",
    "    Steigung, y0 = np.polyfit(Jahre, Quoten, 1)\n",
    "    \n",
    "    #der Trend ergibt sich als der 2-jährige linear-extrapolierte Wert der Quote geteilt durch die \"extrapolierte\" Quote des aktuellen Jahres\n",
    "    Trend = (Steigung*(Jahre[-1]+2)+y0)/(Steigung*(Jahre[-1])+y0)\n",
    "    \n",
    "    #es wird der Trend zuückgegeben\n",
    "    return Trend\n",
    "\n",
    "#Selbe Funltion wie oben nur dass hier auch die Fitparameter zurück gegeben werden.\n",
    "def Trendbestimmung_params(Jahre, Quoten):\n",
    "    #Linearer Fit des Quotenverlaufs\n",
    "    Steigung, y0 = np.polyfit(Jahre, Quoten, 1)\n",
    "    \n",
    "    #der Trend ergibt sich als der 2-jährige linear-extrapolierte Wert der Quote geteilt durch die Quote des aktuellen Jahres\n",
    "    Trend = (Steigung*(Jahre[-1]+2)+y0)/(Steigung*(Jahre[-1])+y0)\n",
    "    \n",
    "    #es wird der Trend zuückgegeben\n",
    "    return np.array([Trend,Steigung,y0])\n",
    "\n",
    "#Vektor mit den verschiedenen Altern für Erwachsene im Rechenbeispiel\n",
    "Alter_Storno_Sterblichkeit = np.array([ 20.,  21.,  22.,  23.,  24.,  25.,  26.,  27.,  28.,  29.,  30.,\n",
    "        31.,  32.,  33.,  34.,  35.,  36.,  37.,  38.,  39.,  40.,  41.,\n",
    "        42.,  43.,  44.,  45.,  46.,  47.,  48.,  49.,  50.,  51.,  52.,\n",
    "        53.,  54.,  55.,  56.,  57.,  58.,  59.,  60.,  61.,  62.,  63.,\n",
    "        64.,  65.,  66.,  67.,  68.,  69.,  70.,  71.,  72.,  73.,  74.,\n",
    "        75.,  76.,  77.,  78.,  79.,  80.,  81.,  82.,  83.,  84.,  85.,\n",
    "        86.,  87.,  88.,  89.,  90.,  91.,  92.,  93.,  94.,  95.,  96.,\n",
    "        97.,  98.,  99., 100., 101., 102.])\n",
    "\n",
    "#Vektor mit Sterbewahrscheinlichkeiten. Daten leicht modifizert von der BaFin Tafel übernommen.\n",
    "Sterblichkeit = np.array([0.000353, 0.000382, 0.000402, 0.000414, 0.000398, 0.00038 ,\n",
    "       0.000359, 0.000333, 0.000311, 0.000296, 0.000288, 0.000286,\n",
    "       0.00029 , 0.000293, 0.000303, 0.000318, 0.00033 , 0.000348,\n",
    "       0.000373, 0.000404, 0.000441, 0.000485, 0.000536, 0.000592,\n",
    "       0.00065 , 0.00072 , 0.000805, 0.000909, 0.001035, 0.001185,\n",
    "       0.001357, 0.001549, 0.001759, 0.001987, 0.002236, 0.002511,\n",
    "       0.00282 , 0.003166, 0.003552, 0.003917, 0.004234, 0.004616,\n",
    "       0.005023, 0.005416, 0.005877, 0.006425, 0.007037, 0.007701,\n",
    "       0.008431, 0.009197, 0.010079, 0.011107, 0.012282, 0.013674,\n",
    "       0.015323, 0.017251, 0.019457, 0.021933, 0.024876, 0.028366,\n",
    "       0.032485, 0.037317, 0.043424, 0.050319, 0.058294, 0.067455,\n",
    "       0.0779  , 0.089719, 0.102992, 0.117777, 0.134092, 0.151906,\n",
    "       0.170997, 0.191134, 0.211354, 0.232032, 0.24325 , 0.25129 ,\n",
    "       0.25896 , 0.26621 , 0.27302 , 0.27934 , 1 ])\n",
    "\n",
    "#Vektor mit Stornowahrscheinlichkeiten. Daten leicht modifizert von der BaFin Tafel übernommen.\n",
    "Storno = np.array([1.28111091e-01, 1.28111091e-01, 1.28111091e-01, 1.28111091e-01,\n",
    "       9.93580300e-02, 8.51955870e-02, 8.61750460e-02, 9.70122360e-02,\n",
    "       1.07571532e-01, 1.07907263e-01, 9.80066410e-02, 8.40200430e-02,\n",
    "       6.95391040e-02, 6.39885510e-02, 5.86108590e-02, 5.35903320e-02,\n",
    "       4.90001320e-02, 4.48737550e-02, 4.12208420e-02, 3.80252920e-02,\n",
    "       3.52471220e-02, 3.28368450e-02, 3.07502480e-02, 2.89566110e-02,\n",
    "       2.74277480e-02, 2.61452860e-02, 2.50998440e-02, 2.42975060e-02,\n",
    "       2.37401940e-02, 2.34296010e-02, 2.33562470e-02, 2.34758770e-02,\n",
    "       2.34758770e-02, 2.34758770e-02, 2.34758770e-02, 2.31063930e-02,\n",
    "       2.17317750e-02, 1.94855570e-02, 1.66586140e-02, 1.38157360e-02,\n",
    "       1.13008800e-02, 9.26357600e-03, 7.72579200e-03, 6.63135900e-03,\n",
    "       5.88889800e-03, 5.38323500e-03, 5.00148800e-03, 4.66391000e-03,\n",
    "       4.32413200e-03, 3.99103100e-03, 3.68120200e-03, 3.40814000e-03,\n",
    "       3.17674700e-03, 2.98994500e-03, 2.84530500e-03, 2.51440800e-03,\n",
    "       2.22851900e-03, 1.97260000e-03, 1.74301100e-03, 1.53635300e-03,\n",
    "       1.34955300e-03, 1.17987600e-03, 1.02480700e-03, 8.82100000e-04,\n",
    "       7.49773000e-04, 6.26024000e-04, 5.09284000e-04, 3.98195000e-04,\n",
    "       2.91582000e-04, 1.88499000e-04, 8.81500000e-05, 8.81500000e-05,\n",
    "       8.81500000e-05, 8.81500000e-05, 8.81500000e-05, 8.81500000e-05,\n",
    "       8.81500000e-05, 8.81500000e-05, 8.81500000e-05, 8.81500000e-05,\n",
    "       8.81500000e-05, 8.81500000e-05, 8.81500000e-05])\n",
    "\n",
    "#Funktion zur Berechnung der rechnungsmäßig Lebenden\n",
    "def Berechne_ly(l_20, StornoPlusSterblichkeit):\n",
    "    l_y = np.array([l_20])\n",
    "    for i in range(20,102):\n",
    "        l_y = np.append(l_y,round(l_y[-1]*(1-StornoPlusSterblichkeit[i-20])))\n",
    "\n",
    "    return l_y\n",
    "\n",
    "#Vektor mit Kopfschäden\n",
    "Kopfschaeden = np.array([  352.8593,   388.2635,   373.6262,   396.7469,   374.8589,\n",
    "         439.851 ,   489.2027,   669.6451,   729.8146,   943.0601,\n",
    "        1183.7806,  1426.9665,  1597.4715,  1713.0305,  1813.6269,\n",
    "        1832.4329])\n",
    "Alter_Kopfschaeden = np.arange(0,16)*5+22.5\n",
    "\n",
    "#Funktion zum glätten von Daten\n",
    "def savitzky_golay(y, window_size, order, deriv=0, rate=1):\n",
    "    \n",
    "    from math import factorial\n",
    "    \n",
    "    order_range = range(order+1)\n",
    "    half_window = (window_size -1) // 2\n",
    "\n",
    "    b = np.mat([[k**i for i in order_range] for k in range(-half_window, half_window+1)])\n",
    "    m = np.linalg.pinv(b).A[deriv] * rate**deriv * factorial(deriv)\n",
    "    \n",
    "    firstvals = y[0] - np.abs( y[1:half_window+1][::-1] - y[0] )\n",
    "    lastvals = y[-1] + np.abs(y[-half_window-1:-1][::-1] - y[-1])\n",
    "    y = np.concatenate((firstvals, y, lastvals))\n",
    "    return np.convolve( m[::-1], y, mode='valid')\n",
    "\n",
    "#Funtkion die mittels obigen Glättungsalgorithmus die Kopfschadenkurve berechnet\n",
    "def Kopfschaden_Fit(Tatsaechliche_Kopfschaeden):\n",
    "    \n",
    "    y_smoothed = savitzky_golay(Tatsaechliche_Kopfschaeden,13,5)\n",
    "\n",
    "    xp = np.linspace(22.5,97.5,len(y_smoothed))\n",
    "    xp = np.insert(xp,0,20)\n",
    "    xp = np.append(xp,102)\n",
    "\n",
    "    y_smoothed = np.insert(y_smoothed,0,y_smoothed[0])\n",
    "    y_smoothed = np.append(y_smoothed,y_smoothed[-1])\n",
    "    \n",
    "    x_ret= np.arange(20,103)\n",
    "    \n",
    "    y_ret = np.interp(x_ret, xp, y_smoothed)\n",
    "    return x_ret, y_ret\n",
    "\n",
    "#Funktion zum Berechnen eines Vektors mit (1+zins)^(-i) im i-ten Eintrag.\n",
    "def Diskontvektor(i):\n",
    "    \n",
    "    v = np.zeros(83)\n",
    "    for j in range(0,102-19):\n",
    "        v[j] = (1+i)**(-j)\n",
    "    return v\n",
    "\n",
    "#Funktion die die erwarteten Einnahmen (pro Euro Prämie) berechnet\n",
    "def Erwartete_Einnahmen_per_Prämie(Alter,Zins,RechnungsmaessigVersicherte):\n",
    "    \n",
    "    v = Diskontvektor(Zins)\n",
    "    \n",
    "    return np.sum(v[:(103-Alter)]*RechnungsmaessigVersicherte[(Alter-20):])\n",
    "\n",
    "#Funktion die die erwateten Schadenaufwendungen berechnet\n",
    "def Erwartete_Leistungen(Alter,Zins,RechnungsmaessigVersicherte,Kopfschaden_Kurve):\n",
    "    \n",
    "    v = Diskontvektor(Zins)\n",
    "    \n",
    "    Produkt = RechnungsmaessigVersicherte*Kopfschaden_Kurve\n",
    "    \n",
    "    return np.sum(Produkt[(Alter-20):]*v[:(103-Alter)])\n",
    "\n",
    "#Input für die Quoten aus Teil 1.3\n",
    "Jahre_Quoten=np.array([2018,2019,2020])\n",
    "Quoten_Tarif_A = np.array([0.9473,0.9312 ,0.8972])\n",
    "Quoten_Tarif_B = np.array([0.9689, 0.9890,1.0149])\n",
    "Quoten_Tarif_C = np.array([1.0011, 0.9735,0.9997])\n",
    "\n",
    "print(\"Hilfscode erfolgreich ausgeführt! Du kannst jetzt loslegen.\")"
   ]
  },
  {
   "cell_type": "markdown",
   "metadata": {},
   "source": [
    "In den Kapiteln führen wir dich durch deine ersten Kochversuche!"
   ]
  },
  {
   "cell_type": "markdown",
   "metadata": {},
   "source": [
    "## Das Rezept: Wie wird die Prämie bestimmt"
   ]
  },
  {
   "cell_type": "markdown",
   "metadata": {},
   "source": [
    "Bevor wir uns Gedanken über einen fairen Preis für ein Versicherungspordukt machen, betrachten wir zunächst die damit verbundenen erwarteten Ausgaben und Einnahmen."
   ]
  },
  {
   "cell_type": "markdown",
   "metadata": {},
   "source": [
    "### Erwartete Einnahmen:"
   ]
  },
  {
   "cell_type": "markdown",
   "metadata": {},
   "source": [
    "Wir wollen die Prämie so bestimmen, dass sie über die gesamte Versicherungsdauer konstant den Wert $P_x$ besitzt. Hierbe bezeichnet $x$ das Eintrittsalter des Versicherten. Der heutige Wert der Prämieneinnahmen ergibt sich dann aus der Summe aller künftigen Einnahmen. Hierbei muss allerdings berücksichtigt werden, dass (a) über die Jahre Versicherte durch Storno und Tod aus der Versicherung ausscheiden und (b) der heutige Wert einer künftigen Einnhame entsprechend diskonitert (\"abgezinst\") werden muss. Wir gehen an dieser Stelle davon aus, dass zum Einen ein fester Zinssatz von $i$ erwirtschaftet wird und zum Anderen im Alter $y$ noch $l_y$ Personen versichert sind. Wie man genau $l_y$ bestimmt erklären wir später. Das maximale Alter, mit dem wir rechnen, soll mit $\\omega$ bezeichnet werden. Damit erhalten wir dann:"
   ]
  },
  {
   "cell_type": "markdown",
   "metadata": {},
   "source": [
    "<center>$\\mathrm{Wert\\ der\\ Prämieneinnahmen} =: l_x P_x + l_{x+1}\\cdot P_x\\cdot(1+i)^{-1}+ l_{x+2}\\cdot P_x\\cdot(1+i)^{-2} + \\dots + l_{\\omega}\\cdot P_x\\cdot(1+i)^{-\\omega+x} $"
   ]
  },
  {
   "cell_type": "markdown",
   "metadata": {},
   "source": [
    "### Erwarteten Versicherungsleistungen:"
   ]
  },
  {
   "cell_type": "markdown",
   "metadata": {},
   "source": [
    "Ähnliche Überlegungen können wir jetzt auch für die erwarteten Versicherungsleistungen anstellen. An der Stelle nehmen wir an, wir wissen den Wert der Versicherungsleistungen (Schaden), den eine $y$-jährige Person verursacht und bezeichnen die Größe mit $K_y$. Auch hier erklären wir weiter unten, wie wir diese Größe bestimmen. Analog zu oben ergibt sich dann:"
   ]
  },
  {
   "cell_type": "markdown",
   "metadata": {},
   "source": [
    "<center>$\\mathrm{Wert\\ der\\ Versicherungsleistungen} =: l_x K_x + l_{x+1}\\cdot K_{x+1}\\cdot(1+i)^{-1}+ l_{x+2}\\cdot K_{x+2}\\cdot(1+i)^{-2} + \\dots + l_{\\omega}\\cdot K_{\\omega}\\cdot(1+i)^{-\\omega+x} $"
   ]
  },
  {
   "cell_type": "markdown",
   "metadata": {},
   "source": [
    "### Äquivalenzprinzip:"
   ]
  },
  {
   "cell_type": "markdown",
   "metadata": {},
   "source": [
    "Wie ergibt sich nun die gesuchte faire Prämie für unser Versicherungsprodukt? Dafür muss der Wert der erwarteten Versicherungsleistungen dem Wert der erwarteten Einnahmen gerade entsprechen. Damit erhalten wir:"
   ]
  },
  {
   "cell_type": "markdown",
   "metadata": {},
   "source": [
    "\n",
    "<center>$\\boxed{P_x =: \\frac{l_x K_x + l_{x+1}\\cdot K_{x+1}\\cdot(1+i)^{-1}+ l_{x+2}\\cdot K_{x+2}\\cdot(1+i)^{-2} + \\dots + l_{\\omega}\\cdot K_{\\omega}\\cdot(1+i)^{-\\omega+x}}{l_x + l_{x+1}\\cdot(1+i)^{-1}+ l_{x+2}\\cdot(1+i)^{-2} + \\dots + l_{\\omega}\\cdot (1+i)^{-\\omega+x}}} $"
   ]
  },
  {
   "cell_type": "markdown",
   "metadata": {},
   "source": [
    "## Der erste Versuch: Prämienkalkulation an einem Beispiel"
   ]
  },
  {
   "cell_type": "markdown",
   "metadata": {},
   "source": [
    "Schauen wir uns jetzt ein konkretes Beispiel an. Um die obenstehende Formel anwenden zu können benötigen wir die Werte für $l_y$ und $K_y$. \n",
    "\n",
    "Wir starten erst mit der Bestimmung von $l_y$, der Anzahl an versicherten Personen mit Alter $y$. In der Krankenversicherung können Versicherte aufgrund zweier Ursachen aus der Versicherung ausscheiden: Durch Stornieren des Vertrages oder oder durch Tod. Die altersabhängigen Wahrscheinlichkeiten für beide Ereignisse werden z.B. von der [BaFin](https://www.bafin.de/DE/PublikationenDaten/Statistiken/statistiken_node.html) veröffentlicht und sind hier bereits in zwei Variablen `Storno`und `Sterblichkeit` in Vektorform gespeichert. Die folgende Grafik illustriert beide Wahrscheinlichkeitsverläufe:\n"
   ]
  },
  {
   "cell_type": "code",
   "execution_count": null,
   "metadata": {
    "code_folding": [
     0
    ]
   },
   "outputs": [],
   "source": [
    "#Plotte Storno und Sterblichkeit\n",
    "%matplotlib notebook\n",
    "ax1 = plt.subplot(111)\n",
    "\n",
    "ax1.plot(Alter_Storno_Sterblichkeit,Sterblichkeit,label=\"Sterblichkeit\")\n",
    "ax1.plot(Alter_Storno_Sterblichkeit,Storno,label=\"Storno\")\n",
    "\n",
    "plt.ylabel(\"Wahrscheinlichkeit\")\n",
    "plt.xlabel(\"Alter\")\n",
    "\n",
    "plt.ylim([0,0.2])\n",
    "ax1.legend(loc=\"upper left\")\n",
    "plt.show()"
   ]
  },
  {
   "cell_type": "markdown",
   "metadata": {},
   "source": [
    "Berechne nun die gesamte Wahrscheinlichkeit durch einfache Summation der beiden Variablen:"
   ]
  },
  {
   "cell_type": "code",
   "execution_count": null,
   "metadata": {},
   "outputs": [],
   "source": [
    "StornoPlusSterblichkeit = #<----- Hier Code einfügen"
   ]
  },
  {
   "cell_type": "markdown",
   "metadata": {},
   "source": [
    "Werte aus diesem neuen Vektor lassen sich mit `print(StornoPlusSterblichkeit[i])` wobei $i=0$ dem Alter 20 entspricht, $i=1$ dem Alter 21, etc.. *Lass dir als Beispiel die gesamte Storno- und Sterbewahrscheinlichkeit für das Alter 24 ausgeben, in dem du die untenstehende Code-Zelle modifizierst und ausführst:*"
   ]
  },
  {
   "cell_type": "code",
   "execution_count": null,
   "metadata": {},
   "outputs": [],
   "source": [
    "print()#<----- Hier Code einfügen"
   ]
  },
  {
   "cell_type": "markdown",
   "metadata": {},
   "source": [
    "*Wie viele rechnungsmäßig Versicherte gibt es mit Alter 25, wenn man mit 100000 Versicherte mit Alter 20 startet? Warum spielt der Startwert von 100000 für die Prämienkalkulaiton eigentlich keine Rolle?*\n",
    "\n",
    "|Alter|20|21|22|23|24|25|\n",
    "|:---:|:---:|:---:|:---:|:---:|:---:|:---:|\n",
    "|Versicherte|100000|87154|75955|66194|57686|?|\n"
   ]
  },
  {
   "cell_type": "code",
   "execution_count": null,
   "metadata": {},
   "outputs": [],
   "source": [
    "#<----- Hier Code einfügen"
   ]
  },
  {
   "cell_type": "markdown",
   "metadata": {},
   "source": [
    "Basierend auf dieser Wahrscheinlichkeit berechnen wir jetzt die rechnungsmäßig Versicherten für alle Alter zwischen 20 und 102. Dafür haben wir bereits eine Hilfsfunktion geschrieben, die diese Rechnung durchführt: `Berechne_ly(l_20, StornoPlusSterblichkeit)` die den Schritt oben für dich iteriert und damit die gesamte Reihe $l_y$ berechnet. Als Argumente muss man dafür die Anzahl der Versicherten mit Alter 20 ($l_{20}$) aus der Tabelle oben übergeben und die Variable `StornoPlusSterblichkeit`. *Vervollständige den Code und führe ihn aus. Stimmen die Ergebnisse mit der Tabelle oben für die Alter 20 bis 25 überein?*"
   ]
  },
  {
   "cell_type": "code",
   "execution_count": null,
   "metadata": {},
   "outputs": [],
   "source": [
    "RechnungsmaessigVersicherte = Berechne_ly() #<----- Hier Code einfügen\n",
    "\n",
    "print(RechnungsmaessigVersicherte)"
   ]
  },
  {
   "cell_type": "markdown",
   "metadata": {},
   "source": [
    "Grafisch sieht unser Ergebnis so aus:"
   ]
  },
  {
   "cell_type": "code",
   "execution_count": null,
   "metadata": {
    "code_folding": [
     0
    ]
   },
   "outputs": [],
   "source": [
    "#Plotte Rechnungsmäßig Versicherte\n",
    "%matplotlib notebook\n",
    "ax2 = plt.subplot(111)\n",
    "\n",
    "ax2.plot(Alter_Storno_Sterblichkeit,RechnungsmaessigVersicherte,label=\"Rechnungsmäßig Versicherte\")\n",
    "plt.ylabel(\"Versicherte\")\n",
    "plt.xlabel(\"Alter\")\n",
    "ax2.legend(loc=\"upper right\")\n",
    "plt.show()"
   ]
  },
  {
   "cell_type": "markdown",
   "metadata": {},
   "source": [
    "Wir haben nun also $l_y$ bestimmt. Es fehlen aber noch konkrete Werte für $K_y$. Die Werte hierfür werden auf Basis der vom Versicherungsunternehmen tatsächlich beobachteten Schäden in verschiedenen Altersgruppen bestimmt. Nehmen wir an, folgende altersabhängigen Schäden wurden beobachtet:"
   ]
  },
  {
   "cell_type": "code",
   "execution_count": null,
   "metadata": {
    "code_folding": [
     0
    ]
   },
   "outputs": [],
   "source": [
    "#Plotte Kopfschäden\n",
    "%matplotlib notebook\n",
    "ax3 = plt.subplot(111)\n",
    "\n",
    "ax3.plot(Alter_Kopfschaeden,Kopfschaeden,'x',label=\"Kopfschäden\")\n",
    "plt.ylabel(\"Schaden\")\n",
    "plt.xlabel(\"Alter\")\n",
    "ax3.legend(loc=\"upper left\")\n",
    "\n",
    "plt.xlim(20,105)\n",
    "plt.show()"
   ]
  },
  {
   "cell_type": "markdown",
   "metadata": {},
   "source": [
    "Ziel ist es nun, eine glatte Kurve durch die beobachteten Kopfschäden zu legen. Auch dafür wurde bereits eine Funktion vordefiniert, die eine entsprechende Kurve findet: `Kopfschaden_Fit(Kopfschaeden)` übernimmt die tatsächlichen Kopfschäden, gespeichert in `Kopfschaeden` und legt eine Kurve durch. In der Ausgabe stehen die geglätteten Schadenswerte:"
   ]
  },
  {
   "cell_type": "code",
   "execution_count": null,
   "metadata": {},
   "outputs": [],
   "source": [
    "x_Werte, Kopfschaden_Kurve = Kopfschaden_Fit(Kopfschaeden)\n",
    "\n",
    "print(Kopfschaden_Kurve)"
   ]
  },
  {
   "cell_type": "markdown",
   "metadata": {},
   "source": [
    "Und untenstehender Code illustriert das Ergebnis:"
   ]
  },
  {
   "cell_type": "code",
   "execution_count": null,
   "metadata": {
    "code_folding": [
     0
    ]
   },
   "outputs": [],
   "source": [
    "#Plotte Kopfschäden und Kurve\n",
    "%matplotlib notebook\n",
    "ax3 = plt.subplot(111)\n",
    "\n",
    "ax3.plot(Alter_Kopfschaeden,Kopfschaeden,'x',label=\"Kopfschäden\")\n",
    "plt.ylabel(\"Schaden\")\n",
    "plt.xlabel(\"Alter\")\n",
    "\n",
    "ax3.plot(x_Werte, Kopfschaden_Kurve,label=\"Kopfschadenkurve\")\n",
    "ax3.legend(loc=\"upper left\")\n",
    "\n",
    "plt.xlim(20,105)\n",
    "plt.show()"
   ]
  },
  {
   "cell_type": "markdown",
   "metadata": {},
   "source": [
    "Jetzt sind alle Zutaten da, um den Wert der fairen Prämie mittels des Äquivalenzprinzips zu berechnen. Auch hier haben wir bereits Funktionen definiert, die sowohl den Zähler (erwartete Leistungen) als auch den Nenner (erwartete Einnahmen pro € Prämie) berechnen: `Erwartete_Einnahmen_per_Prämie(Alter,Zins,RechnungsmaessigVersicherte)` und `Erwartete_Leistungen(Zins,RechnungsmaessigVersicherte,Kopfschaden_Kurve)`. *Wende die Formeln an und berechne damit die Prämie für einen 20-jährigen bei einen Zinssatz von jeweils 1,0% , 1,5% und 2,5%.* Tipp: mit `round( XX , 2)` kannst du das Ergebnis auf zwei Nachkommastellen runden.\n",
    "\n",
    "|Zinssatz|1,0%|1,5%|2,5%|\n",
    "|:---:|:---:|:---:|:---:|\n",
    "|Prämie|296,08€|?|?|"
   ]
  },
  {
   "cell_type": "code",
   "execution_count": null,
   "metadata": {},
   "outputs": [],
   "source": [
    "Zins = #<--- Hier Code einfügen\n",
    "Leistungsbarwert = Erwartete_Leistungen(20,Zins,RechnungsmaessigVersicherte,Kopfschaden_Kurve)\n",
    "Rentenbarwert = Erwartete_Einnahmen_per_Prämie(20,Zins,RechnungsmaessigVersicherte)\n",
    "\n",
    "Praemie = #<--- Hier Code einfügen\n",
    "print(Praemie)"
   ]
  },
  {
   "cell_type": "markdown",
   "metadata": {},
   "source": [
    "Die Prämie ist nun also erfolgreich bestimmt. Wie können wir das Ergebnis interpretieren? Dafür wurde der Wert der Prämie in den bereits bekannten Graph mit den Kopfschäden geplottet. Die Grafik ist interaktiv: Du kannst die Kopfschäden und rechnungsmäßig Versicherten verändern, in dem du die grünen Kreise verschiebst. *Wie verändert wich dadurch die Prämie?*\n",
    "\n",
    "(Hinweis: Durch die interaktive Kurve weichen die hier verwendeten Kurve für rechnungsm. Versicherte und Kopfschäden geringfügig von den Werten oben ab. Dadurch weicht auch die Prämie leicht von der Berechnung oben ab.)"
   ]
  },
  {
   "cell_type": "code",
   "execution_count": null,
   "metadata": {
    "code_folding": [
     0
    ]
   },
   "outputs": [],
   "source": [
    "#Plotte Prämie und Kopfschäden\n",
    "%matplotlib notebook\n",
    "picked_object = -1\n",
    "pind = -1\n",
    "\n",
    "#Aktion die beim Klicken eines der Spline-Stützpunkte asugeführt wird\n",
    "def button_press_callback(event):\n",
    "    global pind\n",
    "    global picked_object\n",
    "    'whenever a mouse button is pressed'\n",
    "    \n",
    "    #### store clicked object #####\n",
    "    picked_object = event.artist\n",
    "    pind = event.ind  \n",
    "    print(pind)\n",
    "\n",
    "#Aktion beim Beenden des Klick-Events\n",
    "def button_release_callback(event):\n",
    "    global pind\n",
    "    global picked_object\n",
    "    global area\n",
    "    global area_plotted\n",
    "    global y_Praemie\n",
    "    global praemie_line\n",
    "     \n",
    "     #Nur bei Linksklick aktionen durchführen\n",
    "    if event.button != 1:\n",
    "        return\n",
    "        \n",
    "    #Nur Aktionebn durchführen, wenn ein Stützpunkt angeklickt wurde\n",
    "    if picked_object == knots or picked_object == knots_ppl: \n",
    "    \n",
    "        pind = None\n",
    "        picked_object = -1\n",
    "        \n",
    "        #Berechne die neue Prämie und plotte die Grafik erneut\n",
    "        Leistungsbarwert = Erwartete_Leistungen(20,Zins,y_spline_Versicherte,y_spline)\n",
    "        Rentenbarwert = Erwartete_Einnahmen_per_Prämie(20,Zins,y_spline_Versicherte)\n",
    "        Praemie = round(Leistungsbarwert/Rentenbarwert,2)\n",
    "        y_Praemie = np.ones(83)*Praemie\n",
    "        praemie_line, = ax3.plot(x_Alter,y_Praemie,color='black',label=\"Pramie\",alpha=0.7)\n",
    "\n",
    "        area = ax3.fill_between(x_Alter,y_Praemie,y_spline,color=color_area,alpha=0.2)\n",
    "\n",
    "        text.set_text('Prämie: '+ str(y_Praemie[0])+ ' €')\n",
    "        text.set_position((25,y_Praemie[0]+40))\n",
    "        \n",
    "        area_plotted = 1\n",
    "        \n",
    "        fig.canvas.draw()\n",
    "        \n",
    "        \n",
    "#Aktion bei Mausbewegung     \n",
    "def motion_notify_callback(event):\n",
    "    global pind\n",
    "    global picked_object\n",
    "    'on mouse movement'\n",
    "    \n",
    "    #Nur bei Mausbewegung im Plot und nur bei Linksklick Aktionen erforderlich\n",
    "    if event.inaxes is None:\n",
    "        return\n",
    "    if event.button != 1:\n",
    "        return\n",
    "    \n",
    "    #Untetrscheidung zwischen linken und rechtem Plot\n",
    "    if picked_object == knots:\n",
    "        \n",
    "        increment = event.ydata - y_spline_knot[pind]\n",
    "        \n",
    "        move_single_point(increment,pind)\n",
    "      \n",
    "    if picked_object == knots_ppl:\n",
    "\n",
    "        increment = event.ydata - y_spline_knot_ppl[pind]\n",
    "        \n",
    "        move_single_point(increment,pind)\n",
    "        \n",
    "#Funktion zum Verschieben eines Punktes\n",
    "def move_single_point(increment,index):\n",
    "    global area_plotted\n",
    "    global picked_object\n",
    "    \n",
    "    if picked_object == knots:\n",
    "        y_spline_knot[index] = y_spline_knot[index] + increment\n",
    "\n",
    "        knots.set_ydata(y_spline_knot)\n",
    "\n",
    "        update_spline_fit()\n",
    " \n",
    "    if picked_object == knots_ppl:\n",
    "        y_spline_knot_ppl[index] = y_spline_knot_ppl[index] + increment\n",
    "\n",
    "        knots_ppl.set_ydata(y_spline_knot_ppl)\n",
    "\n",
    "        update_spline_fit_ppl()\n",
    "        \n",
    "    #Während des Verschiebens wird die schraffierte Fläche und die Prämien-Linie gelöscht um etwas Rechenaufwand zu sparen\n",
    "    \n",
    "    if area_plotted == 1:\n",
    "        area_plotted = 0\n",
    "        area.remove()\n",
    "        praemie_line.remove()\n",
    "        \n",
    "    fig.canvas.draw()\n",
    "\n",
    "#Neue Spline Kurve im linken Plot berechnen\n",
    "def update_spline_fit():\n",
    "    \n",
    "    global x_spline_knot\n",
    "    global y_spline_knot\n",
    "    global y_spline\n",
    "    f2 = interpolate.interp1d(x_spline_knot, y_spline_knot, kind='cubic')\n",
    "    y_spline = f2(x_Alter)\n",
    "    \n",
    "    spline_curve.set_ydata(y_spline)\n",
    "    \n",
    "#Neue Spline Kurve im rechten Plot berechnen   \n",
    "def update_spline_fit_ppl():\n",
    "    \n",
    "    global x_spline_knot_ppl\n",
    "    global y_spline_knot_ppl\n",
    "    global y_spline_Versicherte\n",
    "    f2 = interpolate.interp1d(x_spline_knot, y_spline_knot_ppl, kind='cubic')\n",
    "    y_spline_Versicherte = f2(x_Alter)\n",
    "    \n",
    "    spline_curve_ppl.set_ydata(y_spline_Versicherte)\n",
    "\n",
    "#Set Fig-Größe\n",
    "fig = plt.figure(figsize=(10, 4))\n",
    "\n",
    "#Erzeuge Plots\n",
    "ax3 = fig.add_subplot(121)\n",
    "\n",
    "#Aktionen \"auswählbares Objekt anklicken\", \"Maustaste loslassen\" und \"Mausbewegung\" werden mit obigen Fktnen. verknüpft\n",
    "fig.canvas.callbacks.connect('pick_event', button_press_callback)\n",
    "fig.canvas.callbacks.connect('button_release_event', button_release_callback)\n",
    "fig.canvas.callbacks.connect('motion_notify_event', motion_notify_callback)\n",
    " \n",
    "#Plotte Kopfschäden\n",
    "ax3.plot(Alter_Kopfschaeden,Kopfschaeden,'x',label=\"Kopfschaden\")\n",
    "\n",
    "#Achsenbeschriftung\n",
    "plt.ylabel(\"Schaden/Prämie [€]\")\n",
    "plt.xlabel(\"Alter\")\n",
    "\n",
    "#Plotte Kopfschadenkurve. Hier per Spline Fit.\n",
    "x_Alter = np.linspace(20,102,83)\n",
    "\n",
    "x_spline_knot = x_Werte[::11]\n",
    "y_spline_knot = Kopfschaden_Kurve[::11]\n",
    "x_spline_knot = np.append(x_spline_knot,x_Werte[-1])\n",
    "y_spline_knot = np.append(y_spline_knot,Kopfschaden_Kurve[-1])\n",
    "\n",
    "f2 = interpolate.interp1d(x_spline_knot, y_spline_knot, kind='cubic')\n",
    "y_spline = f2(x_Alter)\n",
    "\n",
    "spline_curve, = ax3.plot(x_Alter,y_spline,label='Kopfschadenkurve')\n",
    "\n",
    "#Plotte Original Kopfschadenkurve\n",
    "ax3.plot(x_Alter,Kopfschaden_Kurve,label='Kopfschadenkurve Original',alpha=0.2,color = spline_curve.get_color())\n",
    "color_area=spline_curve.get_color()\n",
    "\n",
    "#berechne rechnngsm. Versicherte per Interpolation um später die Grafik interaktiv zu machen\n",
    "y_spline_knot_ppl = RechnungsmaessigVersicherte[::11]\n",
    "y_spline_knot_ppl = np.append(y_spline_knot_ppl,RechnungsmaessigVersicherte[-1])\n",
    "\n",
    "f2_ppl = interpolate.interp1d(x_spline_knot, y_spline_knot_ppl, kind='cubic')\n",
    "y_spline_Versicherte = f2_ppl(x_Alter)\n",
    "\n",
    "#Berechne die  zugehörige Prämie\n",
    "Leistungsbarwert = Erwartete_Leistungen(20,Zins,y_spline_Versicherte,y_spline)\n",
    "Rentenbarwert = Erwartete_Einnahmen_per_Prämie(20,Zins,y_spline_Versicherte)\n",
    "Praemie = round(Leistungsbarwert/Rentenbarwert,2)\n",
    "y_Praemie = np.ones(83)*Praemie\n",
    "\n",
    "#Plotte Spline Stützpunkte und mache diese \"anklickbar\"\n",
    "knots, = ax3.plot(x_spline_knot,y_spline_knot,marker='o',linestyle='none',fillstyle='none') \n",
    "knots.set_picker(True)\n",
    "knots.set_pickradius(5)  \n",
    "\n",
    "#schraffierter Bereich zwischen Prämie und Kopfschadenkurve\n",
    "area = ax3.fill_between(x_Alter,y_Praemie,Kopfschaden_Kurve,color=color_area,alpha=0.2)\n",
    "area_plotted = 1\n",
    "\n",
    "#Prämie plotten\n",
    "praemie_line, = ax3.plot(x_Alter,y_Praemie,color='black',label=\"Pramie\",alpha=0.7)\n",
    "text = ax3.text(25, y_Praemie[0]+40, 'Prämie: '+ str(y_Praemie[0]) + ' €', fontsize=10)\n",
    "ax3.text(22, 1000, 'Zins: '+ str(Zins*100) + '%', fontsize=10)\n",
    "\n",
    "#Plot-Limits\n",
    "plt.xlim(20,105)\n",
    "\n",
    "#Legende\n",
    "ax3.legend(loc=\"upper left\")\n",
    "\n",
    "#Rechter Plot\n",
    "ax4 = fig.add_subplot(122)\n",
    "\n",
    "#Darstellung der Spline Kuirve für die rechnungsm. Versicherten\n",
    "spline_curve_ppl, = ax4.plot(x_Alter,y_spline_Versicherte,label=\"Rechnungsmäßig Versicherte\")\n",
    "\n",
    "#Darstellung der Stützpunkte\n",
    "knots_ppl, = ax4.plot(x_spline_knot,y_spline_knot_ppl,marker='o',linestyle='none',fillstyle='none',color=knots.get_color()) \n",
    "knots_ppl.set_picker(True)\n",
    "knots_ppl.set_pickradius(5)         \n",
    "                  \n",
    "#Plotte ursprüngliche Kurve für rechnungsm. Versicherte\n",
    "ax4.plot(Alter_Storno_Sterblichkeit,RechnungsmaessigVersicherte,label=\"Rechnungsmäßig Versicherte Original\",color=spline_curve_ppl.get_color(),alpha=0.2)\n",
    "\n",
    "#Berschriftung\n",
    "plt.ylabel(\"Versicherte\")\n",
    "plt.xlabel(\"Alter\")\n",
    "\n",
    "#Legende\n",
    "ax4.legend(loc=\"upper right\")\n",
    "\n",
    "#Auto-Anordnung und Abstand der Plots\n",
    "fig.tight_layout()\n",
    "\n",
    "#Anzeigen\n",
    "plt.show()"
   ]
  },
  {
   "cell_type": "markdown",
   "metadata": {},
   "source": [
    "*Wie verändert der Zinssatz die Höhe der schwarzen Line (Prämie)?* Wie man sieht, wirkt sich eine Absenkung des Zinssatzes (wie in den letzten Jahren beobachtet) sehr stark auf die Prämie aus. In diesem Kontext wird auch klar, warum PKV Unternehmen aktuell die Prämien immer wieder nach oben anpassen müssen, wie auch in der Presse jüngstens [zu lesen war.](https://www.sueddeutsche.de/wirtschaft/debeka-preiserhoehung-private-krankenversicherung-1.5093287)\n",
    "\n",
    "Weitere Verständnisfrage: *Welche Bedingungen müssten erfüllt sein, damit die Fläche auf der linken und der rechten Seite des Schnittpunktes der Kopfschadenkurve und der Prämie gleich groß sind?*"
   ]
  },
  {
   "cell_type": "markdown",
   "metadata": {},
   "source": [
    "## Wann müssen wir kochen: Die Beitragsanpassung"
   ]
  },
  {
   "cell_type": "markdown",
   "metadata": {},
   "source": [
    "Da in der Privaten Krankenversicherung nach Art der Lebensversicherung das ordentliche Kündigungsrecht des Versicherers ausgeschlossen ist, gibt es eine Besonderheit: Die Beiträge müssen regelmäßig überprüft werden. Wenn es eine Diskrepanz zwischen dem berechneten Schadenaufwand und dem tatsächlich aufgetretenen Schadenaufwand gibt, muss die Prämie angepasst werden. Wie bereits aus dem Beispiel oben ersichtlich, kann dies z.B. passieren, wenn sich die Sterblichkeit verändert oder aber, wie meist der Fall, mehr Kosten durch eine immer besser werdende medizinische Versorgung entstehen (medizinische Inflation). In diesem Teil wird erklärt, wann ein Tarif angepasst wird."
   ]
  },
  {
   "cell_type": "markdown",
   "metadata": {},
   "source": [
    "Eine zentrale Größe bei der Beitragsanpassung ist die Schadenquote. Sie beschreibt das Verhältnis aus dem Schaden, der tatsächlich aufgetreten ist und dem Schaden, den wir zur Tarifberechnung benutzt haben. Letztere Größe folgt unmittelbar aus dem Schadenprofil, das wir z.B. auch oben schon benutzt haben. Die Quote wird wie folgt bestimmt:"
   ]
  },
  {
   "cell_type": "markdown",
   "metadata": {},
   "source": [
    "<center>$\\boxed{\\mathrm{Quote} = \\frac{\\mathrm{tatsächlicher\\ Schaden}}{\\mathrm{rechnungsmäßiger\\ Schaden}}}$"
   ]
  },
  {
   "cell_type": "markdown",
   "metadata": {},
   "source": [
    "Als Beispiel seien nun drei Tarife, Tarif A, Tarif B und Tarif C gegeben. Wir bestimmen nun, welcher der Tarife in 2022 angepasst werden muss. Die Quotenverläufe der drei Tarife sind in der untenstehenden Tabelle gegeben:"
   ]
  },
  {
   "cell_type": "markdown",
   "metadata": {},
   "source": [
    "\n",
    "\n",
    "|Jahr|2018|2019|2020|\n",
    "|:---:|:---:|:---:|:----:|\n",
    "|Quote Tarif A|0.9473|0.9312|0.8972|\n",
    "|Quote Tarif B|0.9689|0.9890|?|\n",
    "|Quote Tarif C|1.0011|0.9735|0.9997|"
   ]
  },
  {
   "cell_type": "markdown",
   "metadata": {},
   "source": [
    "*Wie lautet die Quote für Tarif B, wenn der rechnungsmäßige Schaden mit 340142703 € angesetzt wurde und tatsächliche Schäden in Höhe von  345197101 € aufgetreten sind?*"
   ]
  },
  {
   "cell_type": "code",
   "execution_count": null,
   "metadata": {},
   "outputs": [],
   "source": [
    "#<----- Hier Code einfügen"
   ]
  },
  {
   "cell_type": "markdown",
   "metadata": {},
   "source": [
    "Damit ein zum Zeitpunkt der Anpassung, also hier im Beispiel 2022, relevanter Wert bestimmt wird, bestimmen wir einen Trend im Quotenverlauf: Mittels linearer Extrapolation wird die Quote für das Zieljahr (i.e. 2022) bestimmt. Der Trend ergibt sich dann als:"
   ]
  },
  {
   "cell_type": "markdown",
   "metadata": {},
   "source": [
    "<center>$\\boxed{\\mathrm{Trend} = \\frac{\\mathrm{Quote}^{\\mathrm{linearisiert}}(2022)}{\\mathrm{Quote}^{\\mathrm{linearisiert}}(2020)}}$"
   ]
  },
  {
   "cell_type": "markdown",
   "metadata": {},
   "source": [
    "Im Hilfscode oben wurde bereits eine Funktion \n",
    "```Trendbestimmung(Vektor_Jahre, Vektor_Quoten)```\n",
    "implementiert, die den Trend eines Quotenverlaufs berechnet. Sie funktioniert einfach durch Einsetzen der jeweiligen Daten für `Vektor_Jahre` und `Vektor_Jahre`. Für Tarif A steht die Berechnung in der folgenden Zelle (beachte die Punkte als Dezimaltrennzeichen; Kommas geben einen neuen Vektor-Eintrag an):"
   ]
  },
  {
   "cell_type": "code",
   "execution_count": null,
   "metadata": {},
   "outputs": [],
   "source": [
    "#Berechne den Trend und speichere ihn in die Variable \"Trend_Tarif_A\"\n",
    "Trend_Tarif_A = Trendbestimmung([2018,2019,2020],[0.9473,0.9312 ,0.8972])\n",
    "\n",
    "#Ausgabe des Trends über die Variable \"Trend_Tarif_A\"\n",
    "print(\"Trend A: \", round(Trend_Tarif_A,4))"
   ]
  },
  {
   "cell_type": "markdown",
   "metadata": {},
   "source": [
    "Das gleiche soll jetzt noch für Tarif B und C gemacht werden. *Wie lauten die Trends für Tarife B und C?*"
   ]
  },
  {
   "cell_type": "code",
   "execution_count": null,
   "metadata": {},
   "outputs": [],
   "source": [
    "#Berechne die beiden anderen Trends\n",
    "Trend_Tarif_B = Trendbestimmung()#<--- Hier Code einfügen\n",
    "Trend_Tarif_C = Trendbestimmung()#<--- Hier Code einfügen\n",
    "                                \n",
    "#Ausgabe der Trends                                \n",
    "print(\"Trend B: \", round(Trend_Tarif_B,4))\n",
    "print(\"Trend C: \", round(Trend_Tarif_C,4))                  "
   ]
  },
  {
   "cell_type": "markdown",
   "metadata": {},
   "source": [
    "Die vorhergesagten Quoten und die linearen Extrapolationen können nun auch grafisch dargestellt werden:"
   ]
  },
  {
   "cell_type": "code",
   "execution_count": null,
   "metadata": {
    "code_folding": [
     0
    ]
   },
   "outputs": [],
   "source": [
    "#Plotte lineare Extrapolation der Quoten\n",
    "%matplotlib notebook\n",
    "ax4 = plt.subplot(111)\n",
    "\n",
    "m1, y0_1 = Trendbestimmung_params(Jahre_Quoten,Quoten_Tarif_A)[1:]\n",
    "m2, y0_2 = Trendbestimmung_params(Jahre_Quoten,Quoten_Tarif_B)[1:]\n",
    "m3, y0_3 = Trendbestimmung_params(Jahre_Quoten,Quoten_Tarif_C)[1:]\n",
    "\n",
    "markers1, = ax4.plot(Jahre_Quoten,Quoten_Tarif_A,marker='o',linestyle='none',label=\"Tarif A\")\n",
    "markers2, = ax4.plot(Jahre_Quoten,Quoten_Tarif_B,marker='o',linestyle='none',label=\"Tarif B\")\n",
    "markers3, = ax4.plot(Jahre_Quoten,Quoten_Tarif_C,marker='o',linestyle='none',label=\"Tarif C\")\n",
    "\n",
    "x_line = np.linspace(2018,2022,100)\n",
    "\n",
    "ax4.plot(x_line,y0_1+m1*x_line,color=markers1.get_color())\n",
    "ax4.plot(x_line,y0_2+m2*x_line,color=markers2.get_color())\n",
    "ax4.plot(x_line,y0_3+m3*x_line,color=markers3.get_color())\n",
    "\n",
    "x_2022 = 2022\n",
    "\n",
    "ax4.plot(x_2022,y0_1+m1*x_2022,color=markers1.get_color(),marker='o',fillstyle='none',markersize=9,markeredgewidth=2)\n",
    "ax4.plot(x_2022,y0_2+m2*x_2022,color=markers2.get_color(),marker='o',fillstyle='none',markersize=9,markeredgewidth=2)\n",
    "ax4.plot(x_2022,y0_3+m3*x_2022,color=markers3.get_color(),marker='o',fillstyle='none',markersize=9,markeredgewidth=2)\n",
    "\n",
    "ax4.legend(loc=\"lower left\")\n",
    "\n",
    "ax4.xaxis.set_major_locator(MaxNLocator(integer=True))\n",
    "plt.show()"
   ]
  },
  {
   "cell_type": "markdown",
   "metadata": {},
   "source": [
    "*Was bedeutet ein Trend größer oder kleiner 1?*"
   ]
  },
  {
   "cell_type": "markdown",
   "metadata": {},
   "source": [
    "Der Auslösende Faktor (AF) ist die entscheidende Größe, die bestimmt obein Tarif angepasst werden muss oder nicht. Er ist definiert als"
   ]
  },
  {
   "cell_type": "markdown",
   "metadata": {},
   "source": [
    "<center>$\\boxed{\\mathrm{AF}(2022) = \\mathrm{Quote}(2020)\\cdot \\mathrm{Trend}}$."
   ]
  },
  {
   "cell_type": "markdown",
   "metadata": {},
   "source": [
    "Wenn der Auslösende Faktor um mehr als 10% vom Wert 1 abweicht, muss der Tarif angepasst werden. Tarif C muss für 2022 schon einmal nicht angepasst werden. Was ist mit den anderen Tarifen? *Benutze die oben berechneten Trends und Quoten des Jahres 2020 um zu bestimmen, welche(r) Tarif in 2022 angepasst werden muss.*\n",
    "\n",
    "|AF Tarif A|AF Tarif B|AF Tarif C|\n",
    "|:---:|:---:|:---:|\n",
    "|?|?|0,9983|"
   ]
  },
  {
   "cell_type": "code",
   "execution_count": null,
   "metadata": {},
   "outputs": [],
   "source": []
  },
  {
   "cell_type": "markdown",
   "metadata": {},
   "source": [
    "## Geschafft!\n",
    "\n",
    "Nun habt ihr die Grundzutaten der Beitragsanpassung kennengelernt. Natürlich gibt es bei der richtigen Anpassung noch einige Schritte mehr, die berücksichtigt werden müssen.\n",
    "Wir hoffen, dass ihr interessante Einblicke in unsere Arbeit erhalten habt und vielleicht könnt ihr euch ja vorstellen, uns zukünftig als Köche zu unterstützen.\n",
    " "
   ]
  },
  {
   "cell_type": "markdown",
   "metadata": {},
   "source": [
    "\n",
    "\n",
    "\n",
    "\n",
    "\n",
    "\n",
    "\n",
    "\n",
    "\n",
    "\n",
    "\n",
    "\n",
    "---"
   ]
  }
 ],
 "metadata": {
  "kernelspec": {
   "display_name": "Python 3",
   "language": "python",
   "name": "python3"
  },
  "language_info": {
   "codemirror_mode": {
    "name": "ipython",
    "version": 3
   },
   "file_extension": ".py",
   "mimetype": "text/x-python",
   "name": "python",
   "nbconvert_exporter": "python",
   "pygments_lexer": "ipython3",
   "version": "3.9.0"
  },
  "toc": {
   "base_numbering": 1,
   "nav_menu": {},
   "number_sections": true,
   "sideBar": true,
   "skip_h1_title": false,
   "title_cell": "Table of Contents",
   "title_sidebar": "Contents",
   "toc_cell": false,
   "toc_position": {},
   "toc_section_display": true,
   "toc_window_display": false
  }
 },
 "nbformat": 4,
 "nbformat_minor": 4
}
